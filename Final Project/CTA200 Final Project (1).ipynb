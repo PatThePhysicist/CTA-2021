{
 "cells": [
  {
   "cell_type": "markdown",
   "metadata": {},
   "source": [
    "# Tidal Evolution of the Earth-Moon System\n",
    "\n",
    "### Patricia Golaszewska "
   ]
  },
  {
   "cell_type": "code",
   "execution_count": 30,
   "metadata": {},
   "outputs": [],
   "source": [
    "# The following packages will be used:\n",
    "\n",
    "import numpy as np\n",
    "import matplotlib.pyplot as plt\n",
    "import matplotlib \n",
    "import math\n",
    "\n",
    "%matplotlib inline\n",
    "plt.style.use('dark_background')\n",
    "from scipy.integrate import ode"
   ]
  },
  {
   "cell_type": "markdown",
   "metadata": {},
   "source": [
    "## 1. \n",
    "\n",
    "Here, we pick our unit system. \n",
    "\n",
    "Because the majority of the quanitities presented in this set are given in cgs, we'll use that as our primary unit system. The other quantities will then be converted, accordingly.\n",
    "\n",
    "Gravitational constant: $G$ = $ 6.67 {\\times} 10^{-8} g^{-1} cm^{3} s^{-2}$\n",
    "\n",
    "\n",
    "Solar mass: $M_{\\odot}$ = $1.98 {\\times} 10^{33} g$\n",
    "\n",
    "Earth Mass: $M_{\\oplus}$ = $5.97 {\\times} 10^{27} g$\n",
    " \n",
    "Lunar mass: $m_{moon}$ = $7.349 {\\times} 10^{25} g$\n",
    "\n",
    "Earth's radius: $R_{\\oplus}$ = $6,371 km$ = $637,100,000 cm$\n",
    "\n",
    "\n",
    "Present day Lunar semimajor axis: $a_{moon}(0)$ = $384,000 km$ = $3.84 {\\times} 10^{10} cm$\n",
    "\n",
    "\n",
    "Semimajor axis of Earth's orbit: $a_{\\oplus}$ = $1.49 {\\times} 10^{8} km$ = $1.49 {\\times} 10^{13} cm$\n",
    "\n",
    "Love number of Earth: $k_{2}$ = $0.298$ (dimensionless)\n",
    "\n",
    "Tidal quality factor: $Q_{moon} $ = $11.5$ (dimensionless)\n",
    "\n",
    "\n",
    " "
   ]
  },
  {
   "cell_type": "markdown",
   "metadata": {},
   "source": [
    "Because we're working with an initial value problem, we need to set our intiial conditions. Thus, we'll proceed by calculating $L_{\\oplus}$, $S_{\\oplus}$, and $L_{moon}$.\n",
    "\n",
    "\n",
    "Those quantities are given by the following equations:\n",
    "\n",
    "$L_{\\oplus}$ = $M_{\\oplus} \\sqrt{G(M_{\\odot} + M_{\\oplus})a_{\\oplus}}$\n",
    "\n",
    "$S_{\\oplus}$ = $I{\\Omega}_{\\oplus}$\n",
    "\n",
    "where $I$ = $0.3299 M_{\\oplus}R^{2}_{\\oplus}$\n",
    "\n",
    "and ${\\Omega}_{\\oplus}$ = $\\frac{2 \\pi}{lod}$\n",
    "\n",
    "where $lod$ = $86164 s$\n",
    "\n",
    "$L_{moon}$ = $m_{moon} \\sqrt{G(M_{\\oplus} + m_{moon})a_{moon}}$"
   ]
  },
  {
   "cell_type": "markdown",
   "metadata": {},
   "source": [
    "Then performing the calculations:\n",
    "\n",
    "$L_{\\oplus}$ = $M_{\\oplus} \\sqrt{G(M_{\\odot} + M_{\\oplus})a_{\\oplus}}$\n",
    "\n",
    "$L_{\\oplus}$ = $(5.97 {\\times} 10^{27} g) \\sqrt{(6.67 {\\times} 10^{-8} g^{-1} cm^{3} s^{-2})(1.98 {\\times} 10^{33} g + (5.97 {\\times} 10^{27} g))(1.49 {\\times} 10^{13} cm)}$\n",
    "\n",
    "$L_{\\oplus}$ = $2.648 {\\times} 10^{47} g cm^{2} s^{-1}$\n",
    "\n",
    "Then the next:\n",
    "\n",
    "$S_{\\oplus}$ = $I{\\Omega}_{\\oplus}$\n",
    "\n",
    "$S_{\\oplus}$ = $0.3299 M_{\\oplus}R^{2}_{\\oplus} \\frac{2 \\pi}{lod}$\n",
    "\n",
    "$S_{\\oplus}$ = $0.3299(5.97 {\\times} 10^{27} g)(637,100,000 cm)^{2} \\frac{2 \\pi}{86164 s}$\n",
    "\n",
    "$S_{\\oplus}$ = $5.829 {\\times} 10^{40} gcm^{2}s^{-1}$\n",
    "\n",
    "\n",
    "And the final computation:\n",
    "\n",
    "$L_{moon}$ = $m_{moon} \\sqrt{G(M_{\\oplus} + m_{moon})a_{moon}}$\n",
    "\n",
    "$L_{moon}$ = $(7.349 {\\times} 10^{25} g) \\sqrt{( 6.67 {\\times} 10^{-8} g^{-1} cm^{3} s^{-2})((5.97 {\\times} 10^{27} g) + (7.349 {\\times} 10^{25} g))(3.84 {\\times} 10^{10} cm)}$\n",
    "\n",
    "$L_{moon}$ = $2.891 {\\times} 10^{41} g cm^{2} s^{-1}$"
   ]
  },
  {
   "cell_type": "code",
   "execution_count": 31,
   "metadata": {},
   "outputs": [],
   "source": [
    "# Define variables\n",
    "\n",
    "G = 6.67e-8\n",
    "M_Earth = 5.97e27\n",
    "M_Sun = 1.98e33\n",
    "m_moon = 7.349e25\n",
    "R_Earth = 6.371e8\n",
    "a_moon0 = 3.84e10\n",
    "a_Earth = 1.49e13\n",
    "lod = 86164\n",
    "I = 0.3299*M_Earth*R_Earth**2\n",
    "\n"
   ]
  },
  {
   "cell_type": "code",
   "execution_count": 32,
   "metadata": {},
   "outputs": [
    {
     "data": {
      "text/plain": [
       "2.6482783623404096e+47"
      ]
     },
     "execution_count": 32,
     "metadata": {},
     "output_type": "execute_result"
    }
   ],
   "source": [
    "# Earth Orbital Angular Momentum\n",
    "L_Earth0 = (M_Earth)*((G)*((M_Sun) + (M_Earth))*(a_Earth))**0.5\n",
    "\n",
    "L_Earth0"
   ]
  },
  {
   "cell_type": "code",
   "execution_count": 33,
   "metadata": {},
   "outputs": [
    {
     "data": {
      "text/plain": [
       "5.829427067103106e+40"
      ]
     },
     "execution_count": 33,
     "metadata": {},
     "output_type": "execute_result"
    }
   ],
   "source": [
    "# Earth Angular Momentum\n",
    "S_Earth0 = I*(2*np.pi/lod)\n",
    "\n",
    "S_Earth0"
   ]
  },
  {
   "cell_type": "code",
   "execution_count": 34,
   "metadata": {},
   "outputs": [
    {
     "data": {
      "text/plain": [
       "2.8913500926978634e+41"
      ]
     },
     "execution_count": 34,
     "metadata": {},
     "output_type": "execute_result"
    }
   ],
   "source": [
    "# Lunar Orbital Angular Momentum\n",
    "L_moon0 = (m_moon)*((G)*((M_Earth) + (m_moon))*(a_moon0))**0.5\n",
    "\n",
    "L_moon0"
   ]
  },
  {
   "cell_type": "markdown",
   "metadata": {},
   "source": [
    "## 2.\n",
    "\n",
    "Here, we will give the present day values of $T_{moon}$ and $T_{\\odot}$.\n",
    "\n",
    "\n",
    "There is a simple tidal model which computes the Lundar tidal torque:\n",
    "\n",
    "\n",
    "$T_{moon}$ = $\\frac{3}{2} \\frac{G m^{2}_{moon}}{a_{moon}}(\\frac{R_{\\oplus}}{a_{moon}})^{5} \\frac{k_{2}}{Q_{moon}}$"
   ]
  },
  {
   "cell_type": "code",
   "execution_count": 35,
   "metadata": {},
   "outputs": [],
   "source": [
    "k_2 = 0.298\n",
    "Q_moon = 11.5"
   ]
  },
  {
   "cell_type": "code",
   "execution_count": 36,
   "metadata": {},
   "outputs": [
    {
     "data": {
      "text/plain": [
       "4.583979752290667e+23"
      ]
     },
     "execution_count": 36,
     "metadata": {},
     "output_type": "execute_result"
    }
   ],
   "source": [
    "T_moon0 = (3/2)*(G*m_moon**2/a_moon0)*(R_Earth/a_moon0)**5*(k_2/Q_moon)\n",
    "\n",
    "T_moon0"
   ]
  },
  {
   "cell_type": "markdown",
   "metadata": {},
   "source": [
    "$T_{moon}$ and $T_{\\odot}$ are related through the ratio $\\beta$\n",
    "\n",
    "$\\frac{T_{\\odot}}{T_{moon}}$ = $\\beta$\n",
    "\n",
    "So that $T_{\\odot}$ = $\\beta T_{moon}$"
   ]
  },
  {
   "cell_type": "code",
   "execution_count": 37,
   "metadata": {},
   "outputs": [
    {
     "data": {
      "text/plain": [
       "9.753148409129078e+22"
      ]
     },
     "execution_count": 37,
     "metadata": {},
     "output_type": "execute_result"
    }
   ],
   "source": [
    "B = 1/4.7\n",
    "\n",
    "T_Sun0 = B*T_moon0\n",
    "\n",
    "T_Sun0"
   ]
  },
  {
   "cell_type": "markdown",
   "metadata": {},
   "source": [
    "Where both values have units of $\\frac{cm^{4}}{gs^{2}}$"
   ]
  },
  {
   "cell_type": "markdown",
   "metadata": {},
   "source": [
    "## 3.\n",
    "\n",
    "Here, we'll calculate the three timescales associated with equations (1) through (3) in the project outline.\n",
    "\n",
    "$\\tau_{L_{\\oplus}}$ = $\\frac{L_{\\oplus}}{T_{\\odot}}$\n",
    "\n",
    "\n",
    "$\\tau_{S_{\\oplus}}$ = $\\frac{S_{\\oplus}}{T_{\\odot} + T_{moon}}$\n",
    "\n",
    "$\\tau_{L_{moon}}$ = $\\frac{L_{moon}}{T_{moon}}$\n"
   ]
  },
  {
   "cell_type": "markdown",
   "metadata": {},
   "source": [
    "The timescale $\\tau_{L_{\\oplus}}$ in years:"
   ]
  },
  {
   "cell_type": "code",
   "execution_count": 38,
   "metadata": {},
   "outputs": [
    {
     "data": {
      "text/plain": [
       "8.604285896366192e+16"
      ]
     },
     "execution_count": 38,
     "metadata": {},
     "output_type": "execute_result"
    }
   ],
   "source": [
    "# First in seconds\n",
    "\n",
    "tau_L_S = L_Earth0/T_Sun0\n",
    "\n",
    "\n",
    "# Then converted to years\n",
    "year_tau_L_S = tau_L_S / 60 / 60 / 24 / 365.25\n",
    "\n",
    "year_tau_L_S"
   ]
  },
  {
   "cell_type": "markdown",
   "metadata": {},
   "source": [
    "Then the timescale $\\tau_{S_{\\oplus}}$ in years:"
   ]
  },
  {
   "cell_type": "code",
   "execution_count": 39,
   "metadata": {},
   "outputs": [
    {
     "data": {
      "text/plain": [
       "3322784819.384658"
      ]
     },
     "execution_count": 39,
     "metadata": {},
     "output_type": "execute_result"
    }
   ],
   "source": [
    "# First in seconds\n",
    "\n",
    "tau_S_S = S_Earth0/(T_Sun0 + T_moon0)\n",
    "\n",
    "\n",
    "# Then converted to years\n",
    "year_tau_S_S = tau_S_S / 60 / 60 / 24 / 365.25\n",
    "\n",
    "year_tau_S_S"
   ]
  },
  {
   "cell_type": "markdown",
   "metadata": {},
   "source": [
    "And last, the timescale $\\tau_{L_{moon}}$:"
   ]
  },
  {
   "cell_type": "code",
   "execution_count": 40,
   "metadata": {},
   "outputs": [
    {
     "data": {
      "text/plain": [
       "19987295012.096508"
      ]
     },
     "execution_count": 40,
     "metadata": {},
     "output_type": "execute_result"
    }
   ],
   "source": [
    "tau_L_m = L_moon0/T_moon0\n",
    "\n",
    "# Then converted to years\n",
    "year_tau_L_m = tau_L_m / 60 / 60 / 24 / 365.25\n",
    "\n",
    "year_tau_L_m"
   ]
  },
  {
   "cell_type": "markdown",
   "metadata": {},
   "source": [
    "## 4.\n",
    "\n",
    "\n",
    "In this problem, we are tasked with writing a function to evaluate the right hand side of the differential equations we've been provided. \n",
    "\n",
    "Prior to that, we need to define auxiliary functions for the lunar and solar torque. "
   ]
  },
  {
   "cell_type": "code",
   "execution_count": 41,
   "metadata": {},
   "outputs": [],
   "source": [
    "# bringing back the constants from earlier \n",
    "\n",
    "G = 6.67e-8\n",
    "M_Earth = 5.97e27\n",
    "M_Sun = 1.98e33\n",
    "m_moon = 7.349e25\n",
    "R_Earth = 6.371e8\n",
    "a_moon0 = 3.84e10\n",
    "a_Earth = 1.49e13\n",
    "lod = 86164\n",
    "I = 0.3299\n",
    "k_2 = 0.298\n",
    "Q_moon = 11.5\n",
    "\n",
    "L_Earth0 = (M_Earth)*((G)*((M_Sun) + (M_Earth))*(a_Earth))**0.5\n",
    "S_Earth0 = I*M_Earth*R_Earth**2*(2*np.pi/lod)\n",
    "L_moon0 = (m_moon)*((G)*((M_Earth) + (m_moon))*(a_moon0))**0.5\n",
    "\n",
    "# First defining the functions we need to feed in our evolution equation\n",
    "\n",
    "# Lunar torque\n",
    "def T_moon(a_moon):\n",
    "    T_m = (3/2) * ((G*m_moon**2)/a_moon) * (R_Earth/a_moon)**5 * (k_2/Q_moon)\n",
    "    return T_m\n",
    "\n",
    "# Solar torque\n",
    "def T_Sun(a_moon):\n",
    "    T_S = (1/4.7) * (a_moon/a_moon0)**6 * T_moon(a_moon)\n",
    "    return T_S\n",
    "     \n",
    "\n",
    "# Write out the system of equations\n",
    "\n",
    "def evolution(t, X):\n",
    "    L_Earth, S_Earth, L_moon = X\n",
    "    a_moon = (L_moon/m_moon)**2 / (G*(M_Earth+m_moon))\n",
    "    f = [T_Sun(a_moon), -T_Sun(a_moon) - T_moon(a_moon) , T_moon(a_moon)]\n",
    "    return f"
   ]
  },
  {
   "cell_type": "markdown",
   "metadata": {},
   "source": [
    "## 5.\n",
    "\n",
    "From the step above, we're now going to integrate and store our solution. \n",
    "\n",
    "We're integrating backwards in time, until the Moon hits Earth.\n",
    "\n"
   ]
  },
  {
   "cell_type": "code",
   "execution_count": 42,
   "metadata": {},
   "outputs": [
    {
     "name": "stderr",
     "output_type": "stream",
     "text": [
      "C:\\Users\\patri\\Anaconda3\\lib\\site-packages\\scipy\\integrate\\_ode.py:1179: UserWarning: dopri5: step size becomes too small\n",
      "  warnings.warn('{:s}: {:s}'.format(self.__class__.__name__,\n"
     ]
    },
    {
     "data": {
      "text/plain": [
       "243"
      ]
     },
     "execution_count": 42,
     "metadata": {},
     "output_type": "execute_result"
    }
   ],
   "source": [
    "# Choose solver\n",
    "solver = ode(evolution)\n",
    "solver.set_integrator('dopri5')\n",
    "\n",
    "\n",
    "# Set the initial conditions\n",
    "t0 = 0.0\n",
    "X0 = [L_Earth0, S_Earth0, L_moon0]\n",
    "# These intial conditions were provided in the assignment and calculated earlier\n",
    "solver.set_initial_value(X0, t0)\n",
    "\n",
    "\n",
    "# Integrating back in time\n",
    "t1 = -5.0e16 # seconds\n",
    "\n",
    "# Step size (larger values presented issues)\n",
    "N = 250\n",
    "\n",
    "t = np.linspace(t0, t1, N)\n",
    "sol = np.empty((N, 3))\n",
    "\n",
    "# Create an empty array to store the solution\n",
    "sol[0] = X0\n",
    "\n",
    "# Setting up our counter\n",
    "i = 1\n",
    "while solver.successful() and solver.t > t1:\n",
    "    solver.integrate(t[i])\n",
    "    sol[i] = solver.y\n",
    "    i += 1\n",
    "\n",
    "# Defining the semimajor axis equation in kilometers\n",
    "a_moon_km = (sol[:,2]/m_moon)**2 / (G*(M_Earth + m_moon)) / 100000    \n",
    "\n",
    "# Then to find when the Earth and Moon are in contact\n",
    "\n",
    "np.where(a_moon_km == 0)[0][0]\n"
   ]
  },
  {
   "cell_type": "code",
   "execution_count": 43,
   "metadata": {},
   "outputs": [
    {
     "data": {
      "text/plain": [
       "-1.5462259716484004"
      ]
     },
     "execution_count": 43,
     "metadata": {},
     "output_type": "execute_result"
    }
   ],
   "source": [
    "# First converting to billions of years\n",
    "t_years = t / 60 / 60 / 24 / 365.25 / 1e9\n",
    "\n",
    "# Then finding the time when the Moon and Earth are in contact\n",
    "# using the index we found\n",
    "t_years[243]"
   ]
  },
  {
   "cell_type": "markdown",
   "metadata": {},
   "source": [
    "Thus, the Moon formed about 1.546 billion years ago, according to this model."
   ]
  },
  {
   "cell_type": "markdown",
   "metadata": {},
   "source": [
    "## 6.\n",
    "\n",
    "Here, we're asked to plot the function of the Moon's semimajor axis over time. The solution from above is used."
   ]
  },
  {
   "cell_type": "code",
   "execution_count": 44,
   "metadata": {},
   "outputs": [
    {
     "data": {
      "image/png": "[encoded data removed]",
      "text/plain": [
       "<Figure size 432x288 with 1 Axes>"
      ]
     },
     "metadata": {},
     "output_type": "display_data"
    }
   ],
   "source": [
    "# Plotting our solution\n",
    "\n",
    "plt.plot(t_years, a_moon_km , label='Semimajor axis', color = 'limegreen')\n",
    "plt.grid(b=True, color='DarkTurquoise', alpha=0.2, linestyle=':', linewidth=2)\n",
    "plt.xlabel('Age [Billions of Years]')\n",
    "plt.ylabel('Semimajor Axis [km]')\n",
    "plt.title('Evolution of the Moons Semimajor Axis from Collision')\n",
    "plt.xlim([t_years[243], 0]) # Limiting from the time of contact and the present\n",
    "plt.savefig(\"Q6.pdf\", dpi=300, bbox_inches='tight')\n",
    "plt.show()"
   ]
  },
  {
   "cell_type": "markdown",
   "metadata": {},
   "source": [
    "## 7.\n",
    "\n",
    "Here, we plot the length of a day versus age. \n",
    "\n",
    "In order to obtain the equation used, we rearrange equation 7 and contrast present and past values."
   ]
  },
  {
   "cell_type": "code",
   "execution_count": 45,
   "metadata": {},
   "outputs": [
    {
     "data": {
      "image/png": "[encoded data removed]",
      "text/plain": [
       "<Figure size 432x288 with 1 Axes>"
      ]
     },
     "metadata": {},
     "output_type": "display_data"
    }
   ],
   "source": [
    "# Plotting our solution\n",
    "lod_then = (86164 / 60 / 60)*S_Earth0/(sol[:,1])\n",
    "\n",
    "plt.plot(t_years, lod_then, label='Semimajor axis', color = 'tomato')\n",
    "plt.grid(b=True, color='DarkTurquoise', alpha=0.2, linestyle=':', linewidth=2)\n",
    "plt.xlabel('Age [Billions of Years]')\n",
    "plt.ylabel('Length of Day [Hours]')\n",
    "plt.title('Change in the Length of Day')\n",
    "plt.xlim([t_years[243], 0])\n",
    "plt.ylim([0,30])\n",
    "plt.savefig(\"Q7.pdf\", dpi=300, bbox_inches='tight')\n",
    "plt.show()"
   ]
  },
  {
   "cell_type": "markdown",
   "metadata": {},
   "source": [
    "## 8.\n",
    "\n",
    "Assuming the moon is a rigid object, it is reported to have a Roche limit of 9496km.\n",
    "\n",
    "Value obtained from: https://www.cs.mcgill.ca/~rwest/wikispeedia/wpcd/wp/r/Roche_limit.htm\n",
    "\n",
    "We want to find the length of the day at the time of the Moon's formation if it formed from this radius.\n",
    "\n",
    "In order to do this, we need to find the index at which we have this radius."
   ]
  },
  {
   "cell_type": "code",
   "execution_count": 46,
   "metadata": {},
   "outputs": [
    {
     "data": {
      "text/plain": [
       "242"
      ]
     },
     "execution_count": 46,
     "metadata": {},
     "output_type": "execute_result"
    }
   ],
   "source": [
    "np.where(a_moon_km <= 9496)[0][0]"
   ]
  },
  {
   "cell_type": "code",
   "execution_count": 47,
   "metadata": {},
   "outputs": [
    {
     "data": {
      "text/plain": [
       "4.239113249639029"
      ]
     },
     "execution_count": 47,
     "metadata": {},
     "output_type": "execute_result"
    }
   ],
   "source": [
    "lod_then[242]"
   ]
  },
  {
   "cell_type": "markdown",
   "metadata": {},
   "source": [
    "Thus, the length of day was slighly more than 4 hours at the Roche radius."
   ]
  },
  {
   "cell_type": "markdown",
   "metadata": {},
   "source": [
    "## 9."
   ]
  },
  {
   "cell_type": "markdown",
   "metadata": {},
   "source": [
    "The age of the moon has been reported to be approximately 4.425 billion years (via: https://www.cnn.com/2020/07/16/world/moon-85-million-years-younger-scn-trnd/index.html) whereas the Earth is believed to be approximately 4.54 billion years old (via: https://www.nationalgeographic.org/topics/resource-library-age-earth/?q=&page=1&per_page=25)\n",
    "\n",
    "\n",
    "These values are vastly different than those dictated by the tidal equations in the project."
   ]
  },
  {
   "cell_type": "markdown",
   "metadata": {},
   "source": [
    "## 10.\n",
    "\n",
    "Here, we've been asked to discuss possible errors in our model.\n",
    "\n"
   ]
  },
  {
   "cell_type": "markdown",
   "metadata": {},
   "source": [
    "Issues surrounding this model arise from the incorrect age we get for our system. I suspect that there may be issues with how our model predicts the evolution of this system, and possibly doesn't account for the conditions at impact.\n",
    "\n",
    "Firstly, I do not believe that this model allows for the moon to go through the process of mass accretion. This process would change the dynamics of the system over time as the gravitational effects change.\n",
    "\n",
    "Second, I believe that this model assumes that the Earth-Moon system has been tidally locked from impact. This is an extension of the point made above; the dynamics of this system age the Earth-Moon system based on the tidal evolution. However, if the moon spent a period of time in asynchronous rotation, this model doesn't capture this.\n",
    "\n",
    "I believe that this model interprets the collision as formation, which isn't necessarily true. The moon would have began it's formation at some distance away (i.e possibly the Roche radius) versus at impact.\n",
    "\n",
    "Additional inconsistencies may be caused by changes in the eccentricity and alignment of the moons orbit, as well as external gravitational influences. Stabilization and tidal-locking may also result in changes in the energy in this system, which could have influenced the evolution of our system. \n",
    "\n",
    "These reasons are listed in the order of what I assume to be the most reasonable assumption. My primary concern is that the initial dynamics of the system differ than those observed today, and they are not accounted for in the scope of this project."
   ]
  },
  {
   "cell_type": "code",
   "execution_count": null,
   "metadata": {},
   "outputs": [],
   "source": []
  }
 ],
 "metadata": {
  "kernelspec": {
   "display_name": "Python 3",
   "language": "python",
   "name": "python3"
  },
  "language_info": {
   "codemirror_mode": {
    "name": "ipython",
    "version": 3
   },
   "file_extension": ".py",
   "mimetype": "text/x-python",
   "name": "python",
   "nbconvert_exporter": "python",
   "pygments_lexer": "ipython3",
   "version": "3.8.5"
  }
 },
 "nbformat": 4,
 "nbformat_minor": 4
}
